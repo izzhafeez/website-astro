{
 "cells": [
  {
   "cell_type": "code",
   "execution_count": 1,
   "metadata": {},
   "outputs": [],
   "source": [
    "import os\n",
    "import json"
   ]
  },
  {
   "cell_type": "code",
   "execution_count": 2,
   "metadata": {},
   "outputs": [],
   "source": [
    "input_path = \"../../public/data/stat\"\n",
    "slugs = []\n",
    "for o in os.listdir(input_path):\n",
    "    if not o.endswith(\".json\"):\n",
    "        continue\n",
    "    file_slug = o[:-5]\n",
    "    slugs.append(file_slug)\n",
    "\n",
    "with open(os.path.join(\"../../src/data\", \"stat-slugs.json\"), \"w\", encoding=\"utf-8\") as f:\n",
    "    json.dump(slugs, f, ensure_ascii=False, indent=4)"
   ]
  },
  {
   "cell_type": "code",
   "execution_count": null,
   "metadata": {},
   "outputs": [],
   "source": []
  }
 ],
 "metadata": {
  "kernelspec": {
   "display_name": "eleven",
   "language": "python",
   "name": "python3"
  },
  "language_info": {
   "codemirror_mode": {
    "name": "ipython",
    "version": 3
   },
   "file_extension": ".py",
   "mimetype": "text/x-python",
   "name": "python",
   "nbconvert_exporter": "python",
   "pygments_lexer": "ipython3",
   "version": "3.11.10"
  }
 },
 "nbformat": 4,
 "nbformat_minor": 2
}
