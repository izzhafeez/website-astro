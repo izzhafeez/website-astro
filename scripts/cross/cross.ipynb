{
 "cells": [
  {
   "cell_type": "code",
   "execution_count": 1,
   "metadata": {},
   "outputs": [],
   "source": [
    "import json"
   ]
  },
  {
   "cell_type": "code",
   "execution_count": 2,
   "metadata": {},
   "outputs": [],
   "source": [
    "path = \"../../src/data\"\n",
    "\n",
    "with open(f\"{path}/geo-slugs.json\") as f:\n",
    "    geo_slugs = json.load(f)\n",
    "\n",
    "with open(f\"{path}/stat-slugs.json\") as f:\n",
    "    stat_slugs = json.load(f)\n",
    "\n",
    "with open(f\"{path}/name-slugs.json\") as f:\n",
    "    name_slugs = json.load(f)\n",
    "\n",
    "with open(f\"{path}/quizzes/quizzes.json\") as f:\n",
    "    quizzes = json.load(f)"
   ]
  },
  {
   "cell_type": "code",
   "execution_count": 3,
   "metadata": {},
   "outputs": [],
   "source": [
    "slugs_dict = {\n",
    "    \"geo\": geo_slugs,\n",
    "    \"stat\": stat_slugs,\n",
    "    \"name\": name_slugs,\n",
    "}\n",
    "\n",
    "slugs = []"
   ]
  },
  {
   "cell_type": "code",
   "execution_count": 4,
   "metadata": {},
   "outputs": [],
   "source": [
    "for q in quizzes:\n",
    "    q_data = quizzes[q]\n",
    "    q_slugs = q_data[\"slugs\"]\n",
    "\n",
    "    if not q_slugs:\n",
    "        slug = f\"{q}\"\n",
    "        slugs.append(q)\n",
    "\n",
    "    for q_slug in q_slugs:\n",
    "        slug_contents = slugs_dict[q_slug]\n",
    "        for s in slug_contents:\n",
    "            slug = f\"{q}-{q_slug[0]}{q_slugs[-1][0]}-{s}\"\n",
    "            slugs.append(slug)"
   ]
  },
  {
   "cell_type": "code",
   "execution_count": 5,
   "metadata": {},
   "outputs": [
    {
     "name": "stdout",
     "output_type": "stream",
     "text": [
      "Created 10128 slugs\n"
     ]
    }
   ],
   "source": [
    "with open(f\"{path}/slugs.json\", \"w\") as f:\n",
    "    json.dump(slugs, f, indent=4)\n",
    "    print(f\"Created {len(slugs)} slugs\")"
   ]
  },
  {
   "cell_type": "code",
   "execution_count": null,
   "metadata": {},
   "outputs": [],
   "source": []
  }
 ],
 "metadata": {
  "kernelspec": {
   "display_name": "eleven",
   "language": "python",
   "name": "python3"
  },
  "language_info": {
   "codemirror_mode": {
    "name": "ipython",
    "version": 3
   },
   "file_extension": ".py",
   "mimetype": "text/x-python",
   "name": "python",
   "nbconvert_exporter": "python",
   "pygments_lexer": "ipython3",
   "version": "3.11.10"
  }
 },
 "nbformat": 4,
 "nbformat_minor": 2
}
