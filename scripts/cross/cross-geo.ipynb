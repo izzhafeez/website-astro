{
 "cells": [
  {
   "cell_type": "code",
   "execution_count": 1,
   "metadata": {},
   "outputs": [],
   "source": [
    "import os\n",
    "import pandas as pd\n",
    "import json"
   ]
  },
  {
   "cell_type": "code",
   "execution_count": 3,
   "metadata": {},
   "outputs": [],
   "source": [
    "input_path = \"../../public/data/geo/raw\"\n",
    "output_path = \"../../public/data/geo/canon\"\n",
    "\n",
    "POP_THRESHOLDS = [\n",
    "    1000000, 200000, 100000,\n",
    "    50000, 10000, 1000, 0\n",
    "]\n",
    "\n",
    "COUNT_THRESHOLDS = [\n",
    "    10, 25, 50, 100, 250, 500, 1000\n",
    "]\n",
    "\n",
    "slugs = []\n",
    "\n",
    "for o in os.listdir(input_path):\n",
    "    if not o.endswith(\".csv\"):\n",
    "        continue\n",
    "\n",
    "    file_slug = o.replace(\".csv\", \"\")\n",
    "    df = pd.read_csv(os.path.join(input_path, o), encoding=\"utf-8\", delimiter=\";\", header=None)\n",
    "\n",
    "    file_slugs = {}\n",
    "    D = {}\n",
    "\n",
    "    for r in df.to_dict(\"records\"):\n",
    "        name = f\"{r[0]} [{r[5]}] |{r[2]}|{r[3]} #{r[1]}#\"\n",
    "        D[name] = [r[7], r[6], r[4]]\n",
    "\n",
    "        for pop in POP_THRESHOLDS:\n",
    "            if r[4] >= pop:\n",
    "                slug_key = f\"{file_slug}\"\n",
    "                sub_key = f\"{file_slug}-{r[1]}\"\n",
    "\n",
    "                if slug_key not in file_slugs:\n",
    "                    file_slugs[slug_key] = {}\n",
    "                if pop not in file_slugs[slug_key]:\n",
    "                    file_slugs[slug_key][pop] = 0\n",
    "                if sub_key not in file_slugs:\n",
    "                    file_slugs[sub_key] = {}\n",
    "                if pop not in file_slugs[sub_key]:\n",
    "                    file_slugs[sub_key][pop] = 0\n",
    "                file_slugs[slug_key][pop] += 1\n",
    "\n",
    "                if file_slug in [\"world\", \"us\", \"australia\", \"canada\"]:\n",
    "                    file_slugs[sub_key][pop] += 1\n",
    "\n",
    "    for file_slug in file_slugs:\n",
    "        if \"XXX\" in file_slug or file_slug.count(\"-\") > 1:\n",
    "            continue\n",
    "        pops = file_slugs[file_slug]\n",
    "        curr_count = 0\n",
    "        for pop in POP_THRESHOLDS[::-1]:\n",
    "            if (curr_count == 0 and pops.get(pop, 0) >= 20) or (curr_count - pops.get(pop, curr_count) >= 20 and pops.get(pop, 0) >= 20):\n",
    "                curr_count = pops[pop]\n",
    "                slugs.append(f\"{file_slug}-{pop}\")\n",
    "\n",
    "        count = pops.get(0, 0)\n",
    "        for count_threshold in COUNT_THRESHOLDS:\n",
    "            if count >= count_threshold:\n",
    "                slugs.append(f\"{file_slug}-top{count_threshold}\")\n",
    "    \n",
    "    with open(os.path.join(output_path, o.replace(\".csv\", \".json\")), \"w\", encoding=\"utf-8\") as f:\n",
    "        json.dump(D, f, ensure_ascii=False, indent=4)\n"
   ]
  },
  {
   "cell_type": "code",
   "execution_count": 4,
   "metadata": {},
   "outputs": [],
   "source": [
    "other_path = \"../../public/data/geo/canon\"\n",
    "for o in os.listdir(other_path):\n",
    "    o_slug = o.replace(\".json\", \"\")\n",
    "    slugs.append(o_slug)"
   ]
  },
  {
   "cell_type": "code",
   "execution_count": 5,
   "metadata": {},
   "outputs": [],
   "source": [
    "with open(os.path.join(\"../../src/data\", \"geo-slugs.json\"), \"w\", encoding=\"utf-8\") as f:\n",
    "    json.dump(slugs, f, ensure_ascii=False, indent=4)"
   ]
  },
  {
   "cell_type": "code",
   "execution_count": null,
   "metadata": {},
   "outputs": [],
   "source": []
  }
 ],
 "metadata": {
  "kernelspec": {
   "display_name": "eleven",
   "language": "python",
   "name": "python3"
  },
  "language_info": {
   "codemirror_mode": {
    "name": "ipython",
    "version": 3
   },
   "file_extension": ".py",
   "mimetype": "text/x-python",
   "name": "python",
   "nbconvert_exporter": "python",
   "pygments_lexer": "ipython3",
   "version": "3.11.10"
  }
 },
 "nbformat": 4,
 "nbformat_minor": 2
}
